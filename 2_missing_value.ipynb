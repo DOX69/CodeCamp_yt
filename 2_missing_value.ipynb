{
 "cells": [
  {
   "cell_type": "markdown",
   "metadata": {},
   "source": [
    "# Handle missing values"
   ]
  },
  {
   "cell_type": "code",
   "execution_count": 19,
   "metadata": {},
   "outputs": [],
   "source": [
    "from pyspark.sql import SparkSession\n",
    "spark = SparkSession.builder.appName(\"Practice\").getOrCreate()"
   ]
  },
  {
   "cell_type": "code",
   "execution_count": 20,
   "metadata": {},
   "outputs": [],
   "source": [
    "df = spark.read.csv(\"base_salary.csv\", header=True,inferSchema=True)"
   ]
  },
  {
   "cell_type": "code",
   "execution_count": 21,
   "metadata": {},
   "outputs": [
    {
     "name": "stdout",
     "output_type": "stream",
     "text": [
      "+--------+----+----------+--------+\n",
      "|    name| age|experience|salary  |\n",
      "+--------+----+----------+--------+\n",
      "|   Roger|24.0|         2|   24000|\n",
      "|   Marie|40.0|        10|   40000|\n",
      "|  Fatima|47.0|         7|   80000|\n",
      "|    Alex|26.0|         3|   38000|\n",
      "|   sunny|24.0|         2|    NULL|\n",
      "|    NULL|25.0|      NULL|    NULL|\n",
      "|  Robert|50.0|      NULL|    NULL|\n",
      "|    NULL|48.0|      NULL|   60000|\n",
      "|Amandine|NULL|         5|    NULL|\n",
      "|    NULL|NULL|      NULL|    NULL|\n",
      "|  Armine|NULL|      NULL|    NULL|\n",
      "+--------+----+----------+--------+\n",
      "\n"
     ]
    }
   ],
   "source": [
    "df.show()"
   ]
  },
  {
   "cell_type": "code",
   "execution_count": 22,
   "metadata": {},
   "outputs": [
    {
     "name": "stdout",
     "output_type": "stream",
     "text": [
      "+-------+-----+------------------+------------------+------------------+\n",
      "|summary| name|               age|        experience|          salary  |\n",
      "+-------+-----+------------------+------------------+------------------+\n",
      "|  count|    8|                 8|                 6|                 5|\n",
      "|   mean| NULL|              35.5| 4.833333333333333|           48400.0|\n",
      "| stddev| NULL|11.856282240712245|3.1885210782848317|21835.750502329887|\n",
      "|    min| Alex|              24.0|                 2|             24000|\n",
      "|    max|sunny|              50.0|                10|             80000|\n",
      "+-------+-----+------------------+------------------+------------------+\n",
      "\n"
     ]
    }
   ],
   "source": [
    "df.describe().show()"
   ]
  },
  {
   "cell_type": "markdown",
   "metadata": {},
   "source": [
    "## Drop ine with null values"
   ]
  },
  {
   "cell_type": "code",
   "execution_count": 23,
   "metadata": {},
   "outputs": [
    {
     "name": "stdout",
     "output_type": "stream",
     "text": [
      "+------+----+----------+--------+\n",
      "|  name| age|experience|salary  |\n",
      "+------+----+----------+--------+\n",
      "| Roger|24.0|         2|   24000|\n",
      "| Marie|40.0|        10|   40000|\n",
      "|Fatima|47.0|         7|   80000|\n",
      "|  Alex|26.0|         3|   38000|\n",
      "+------+----+----------+--------+\n",
      "\n"
     ]
    }
   ],
   "source": [
    "df.na.drop().show()"
   ]
  },
  {
   "cell_type": "code",
   "execution_count": 24,
   "metadata": {},
   "outputs": [
    {
     "name": "stdout",
     "output_type": "stream",
     "text": [
      "+--------+----+----------+--------+\n",
      "|    name| age|experience|salary  |\n",
      "+--------+----+----------+--------+\n",
      "|   Roger|24.0|         2|   24000|\n",
      "|   Marie|40.0|        10|   40000|\n",
      "|  Fatima|47.0|         7|   80000|\n",
      "|    Alex|26.0|         3|   38000|\n",
      "|   sunny|24.0|         2|    NULL|\n",
      "|    NULL|25.0|      NULL|    NULL|\n",
      "|  Robert|50.0|      NULL|    NULL|\n",
      "|    NULL|48.0|      NULL|   60000|\n",
      "|Amandine|NULL|         5|    NULL|\n",
      "|  Armine|NULL|      NULL|    NULL|\n",
      "+--------+----+----------+--------+\n",
      "\n"
     ]
    }
   ],
   "source": [
    "df.na.drop(how=\"all\").show() #Any by default"
   ]
  },
  {
   "cell_type": "code",
   "execution_count": 28,
   "metadata": {},
   "outputs": [
    {
     "name": "stdout",
     "output_type": "stream",
     "text": [
      "+--------+----+----------+--------+\n",
      "|    name| age|experience|salary  |\n",
      "+--------+----+----------+--------+\n",
      "|   Roger|24.0|         2|   24000|\n",
      "|   Marie|40.0|        10|   40000|\n",
      "|  Fatima|47.0|         7|   80000|\n",
      "|    Alex|26.0|         3|   38000|\n",
      "|   sunny|24.0|         2|    NULL|\n",
      "|  Robert|50.0|      NULL|    NULL|\n",
      "|    NULL|48.0|      NULL|   60000|\n",
      "|Amandine|NULL|         5|    NULL|\n",
      "+--------+----+----------+--------+\n",
      "\n"
     ]
    }
   ],
   "source": [
    "df.na.drop(thresh=2).show() # At least 2 NONE values"
   ]
  },
  {
   "cell_type": "markdown",
   "metadata": {},
   "source": [
    "## Selecting columns and indexing"
   ]
  },
  {
   "cell_type": "code",
   "execution_count": null,
   "metadata": {},
   "outputs": [],
   "source": []
  }
 ],
 "metadata": {
  "kernelspec": {
   "display_name": "Python 3",
   "language": "python",
   "name": "python3"
  },
  "language_info": {
   "codemirror_mode": {
    "name": "ipython",
    "version": 3
   },
   "file_extension": ".py",
   "mimetype": "text/x-python",
   "name": "python",
   "nbconvert_exporter": "python",
   "pygments_lexer": "ipython3",
   "version": "3.11.9"
  }
 },
 "nbformat": 4,
 "nbformat_minor": 2
}
