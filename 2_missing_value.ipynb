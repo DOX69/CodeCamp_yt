{
 "cells": [
  {
   "cell_type": "markdown",
   "metadata": {},
   "source": [
    "# Handle missing values"
   ]
  },
  {
   "cell_type": "code",
   "execution_count": 56,
   "metadata": {},
   "outputs": [],
   "source": [
    "from pyspark.sql import SparkSession\n",
    "from pyspark.sql import functions as f\n",
    "spark = SparkSession.builder.appName(\"Practice\").getOrCreate()"
   ]
  },
  {
   "cell_type": "code",
   "execution_count": 57,
   "metadata": {},
   "outputs": [],
   "source": [
    "df = spark.read.csv(\"base_salary.csv\", header=True,inferSchema=True)"
   ]
  },
  {
   "cell_type": "code",
   "execution_count": 58,
   "metadata": {},
   "outputs": [
    {
     "name": "stdout",
     "output_type": "stream",
     "text": [
      "+--------+----+----------+------+\n",
      "|    name| age|experience|salary|\n",
      "+--------+----+----------+------+\n",
      "|   Roger|24.0|         2| 24000|\n",
      "|   Marie|40.0|        10| 40000|\n",
      "|  Fatima|47.0|         7| 80000|\n",
      "|    Alex|26.0|         3| 38000|\n",
      "|   sunny|24.0|         2|  NULL|\n",
      "|    NULL|25.0|      NULL|  NULL|\n",
      "|  Robert|50.0|      NULL|  NULL|\n",
      "|    NULL|48.0|      NULL| 60000|\n",
      "|Amandine|NULL|         5|  NULL|\n",
      "|    NULL|NULL|      NULL|  NULL|\n",
      "|  Armine|NULL|      NULL|  NULL|\n",
      "+--------+----+----------+------+\n",
      "\n"
     ]
    }
   ],
   "source": [
    "df.show()"
   ]
  },
  {
   "cell_type": "code",
   "execution_count": 59,
   "metadata": {},
   "outputs": [
    {
     "name": "stdout",
     "output_type": "stream",
     "text": [
      "+-------+-----+------------------+------------------+------------------+\n",
      "|summary| name|               age|        experience|            salary|\n",
      "+-------+-----+------------------+------------------+------------------+\n",
      "|  count|    8|                 8|                 6|                 5|\n",
      "|   mean| NULL|              35.5| 4.833333333333333|           48400.0|\n",
      "| stddev| NULL|11.856282240712245|3.1885210782848317|21835.750502329887|\n",
      "|    min| Alex|              24.0|                 2|             24000|\n",
      "|    max|sunny|              50.0|                10|             80000|\n",
      "+-------+-----+------------------+------------------+------------------+\n",
      "\n"
     ]
    }
   ],
   "source": [
    "df.describe().show()"
   ]
  },
  {
   "cell_type": "markdown",
   "metadata": {},
   "source": [
    "## Drop ine with null values"
   ]
  },
  {
   "cell_type": "code",
   "execution_count": 60,
   "metadata": {},
   "outputs": [
    {
     "name": "stdout",
     "output_type": "stream",
     "text": [
      "+------+----+----------+------+\n",
      "|  name| age|experience|salary|\n",
      "+------+----+----------+------+\n",
      "| Roger|24.0|         2| 24000|\n",
      "| Marie|40.0|        10| 40000|\n",
      "|Fatima|47.0|         7| 80000|\n",
      "|  Alex|26.0|         3| 38000|\n",
      "+------+----+----------+------+\n",
      "\n"
     ]
    }
   ],
   "source": [
    "df.na.drop().show()"
   ]
  },
  {
   "cell_type": "code",
   "execution_count": 61,
   "metadata": {},
   "outputs": [
    {
     "name": "stdout",
     "output_type": "stream",
     "text": [
      "+--------+----+----------+------+\n",
      "|    name| age|experience|salary|\n",
      "+--------+----+----------+------+\n",
      "|   Roger|24.0|         2| 24000|\n",
      "|   Marie|40.0|        10| 40000|\n",
      "|  Fatima|47.0|         7| 80000|\n",
      "|    Alex|26.0|         3| 38000|\n",
      "|   sunny|24.0|         2|  NULL|\n",
      "|    NULL|25.0|      NULL|  NULL|\n",
      "|  Robert|50.0|      NULL|  NULL|\n",
      "|    NULL|48.0|      NULL| 60000|\n",
      "|Amandine|NULL|         5|  NULL|\n",
      "|  Armine|NULL|      NULL|  NULL|\n",
      "+--------+----+----------+------+\n",
      "\n"
     ]
    }
   ],
   "source": [
    "df.na.drop(how=\"all\").show() #Any by default"
   ]
  },
  {
   "cell_type": "code",
   "execution_count": 62,
   "metadata": {},
   "outputs": [
    {
     "name": "stdout",
     "output_type": "stream",
     "text": [
      "+--------+----+----------+------+\n",
      "|    name| age|experience|salary|\n",
      "+--------+----+----------+------+\n",
      "|   Roger|24.0|         2| 24000|\n",
      "|   Marie|40.0|        10| 40000|\n",
      "|  Fatima|47.0|         7| 80000|\n",
      "|    Alex|26.0|         3| 38000|\n",
      "|   sunny|24.0|         2|  NULL|\n",
      "|  Robert|50.0|      NULL|  NULL|\n",
      "|    NULL|48.0|      NULL| 60000|\n",
      "|Amandine|NULL|         5|  NULL|\n",
      "+--------+----+----------+------+\n",
      "\n"
     ]
    }
   ],
   "source": [
    "df.na.drop(thresh=2).show() # At least 2 NONE values"
   ]
  },
  {
   "cell_type": "markdown",
   "metadata": {},
   "source": [
    "## Selecting columns and indexing"
   ]
  },
  {
   "cell_type": "code",
   "execution_count": 63,
   "metadata": {},
   "outputs": [
    {
     "data": {
      "text/plain": [
       "['name', 'age', 'experience', 'salary']"
      ]
     },
     "execution_count": 63,
     "metadata": {},
     "output_type": "execute_result"
    }
   ],
   "source": [
    "df.columns"
   ]
  },
  {
   "cell_type": "code",
   "execution_count": 64,
   "metadata": {},
   "outputs": [
    {
     "data": {
      "text/plain": [
       "[Row(name='Roger', age=24.0, experience=2, salary=24000),\n",
       " Row(name='Marie', age=40.0, experience=10, salary=40000),\n",
       " Row(name='Fatima', age=47.0, experience=7, salary=80000),\n",
       " Row(name='Alex', age=26.0, experience=3, salary=38000)]"
      ]
     },
     "execution_count": 64,
     "metadata": {},
     "output_type": "execute_result"
    }
   ],
   "source": [
    "df.head(4)"
   ]
  },
  {
   "cell_type": "code",
   "execution_count": 65,
   "metadata": {},
   "outputs": [
    {
     "data": {
      "text/plain": [
       "pyspark.sql.dataframe.DataFrame"
      ]
     },
     "execution_count": 65,
     "metadata": {},
     "output_type": "execute_result"
    }
   ],
   "source": [
    "type(df)"
   ]
  },
  {
   "cell_type": "code",
   "execution_count": 67,
   "metadata": {},
   "outputs": [
    {
     "name": "stdout",
     "output_type": "stream",
     "text": [
      "+--------+------+\n",
      "|    name|salary|\n",
      "+--------+------+\n",
      "|   Roger| 24000|\n",
      "|   Marie| 40000|\n",
      "|  Fatima| 80000|\n",
      "|    Alex| 38000|\n",
      "|   sunny|  NULL|\n",
      "|    NULL|  NULL|\n",
      "|  Robert|  NULL|\n",
      "|    NULL| 60000|\n",
      "|Amandine|  NULL|\n",
      "|    NULL|  NULL|\n",
      "|  Armine|  NULL|\n",
      "+--------+------+\n",
      "\n"
     ]
    }
   ],
   "source": [
    "df.select(\"name\",\"salary\").show()"
   ]
  },
  {
   "cell_type": "markdown",
   "metadata": {},
   "source": [
    "## adding columns"
   ]
  },
  {
   "cell_type": "code",
   "execution_count": 68,
   "metadata": {},
   "outputs": [],
   "source": [
    "df = df.withColumn(\"month_salary\",df['salary']/12)"
   ]
  },
  {
   "cell_type": "code",
   "execution_count": 69,
   "metadata": {},
   "outputs": [
    {
     "name": "stdout",
     "output_type": "stream",
     "text": [
      "+--------+----+----------+------+------------------+\n",
      "|    name| age|experience|salary|      month_salary|\n",
      "+--------+----+----------+------+------------------+\n",
      "|   Roger|24.0|         2| 24000|            2000.0|\n",
      "|   Marie|40.0|        10| 40000|3333.3333333333335|\n",
      "|  Fatima|47.0|         7| 80000| 6666.666666666667|\n",
      "|    Alex|26.0|         3| 38000|3166.6666666666665|\n",
      "|   sunny|24.0|         2|  NULL|              NULL|\n",
      "|    NULL|25.0|      NULL|  NULL|              NULL|\n",
      "|  Robert|50.0|      NULL|  NULL|              NULL|\n",
      "|    NULL|48.0|      NULL| 60000|            5000.0|\n",
      "|Amandine|NULL|         5|  NULL|              NULL|\n",
      "|    NULL|NULL|      NULL|  NULL|              NULL|\n",
      "|  Armine|NULL|      NULL|  NULL|              NULL|\n",
      "+--------+----+----------+------+------------------+\n",
      "\n"
     ]
    }
   ],
   "source": [
    "df.show()"
   ]
  },
  {
   "cell_type": "code",
   "execution_count": null,
   "metadata": {},
   "outputs": [],
   "source": []
  }
 ],
 "metadata": {
  "kernelspec": {
   "display_name": "Python 3",
   "language": "python",
   "name": "python3"
  },
  "language_info": {
   "codemirror_mode": {
    "name": "ipython",
    "version": 3
   },
   "file_extension": ".py",
   "mimetype": "text/x-python",
   "name": "python",
   "nbconvert_exporter": "python",
   "pygments_lexer": "ipython3",
   "version": "3.11.9"
  }
 },
 "nbformat": 4,
 "nbformat_minor": 2
}
