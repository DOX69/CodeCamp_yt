{
 "cells": [
  {
   "cell_type": "markdown",
   "metadata": {},
   "source": [
    "# Handle missing values"
   ]
  },
  {
   "cell_type": "code",
   "execution_count": 21,
   "metadata": {},
   "outputs": [],
   "source": [
    "from pyspark.sql import SparkSession\n",
    "from pyspark.sql import functions as f\n",
    "spark = SparkSession.builder.appName(\"Practise\").getOrCreate()"
   ]
  },
  {
   "cell_type": "code",
   "execution_count": 22,
   "metadata": {},
   "outputs": [],
   "source": [
    "df = spark.read.csv(\"base_salary.csv\", header=True,inferSchema=True)"
   ]
  },
  {
   "cell_type": "code",
   "execution_count": 23,
   "metadata": {},
   "outputs": [
    {
     "name": "stdout",
     "output_type": "stream",
     "text": [
      "+--------+----+----------+------+\n",
      "|    name| age|experience|salary|\n",
      "+--------+----+----------+------+\n",
      "|   Roger|24.0|         2| 24000|\n",
      "|   Marie|40.0|        10| 40000|\n",
      "|  Fatima|47.0|         7| 80000|\n",
      "|    Alex|26.0|         3| 38000|\n",
      "|   sunny|24.0|         2|  NULL|\n",
      "|    NULL|25.0|      NULL|  NULL|\n",
      "|  Robert|50.0|      NULL|  NULL|\n",
      "|    NULL|48.0|      NULL| 60000|\n",
      "|Amandine|NULL|         5|  NULL|\n",
      "|    NULL|NULL|      NULL|  NULL|\n",
      "|  Armine|NULL|      NULL|  NULL|\n",
      "+--------+----+----------+------+\n",
      "\n"
     ]
    }
   ],
   "source": [
    "df.show()"
   ]
  },
  {
   "cell_type": "code",
   "execution_count": 24,
   "metadata": {},
   "outputs": [
    {
     "name": "stdout",
     "output_type": "stream",
     "text": [
      "+-------+-----+------------------+------------------+------------------+\n",
      "|summary| name|               age|        experience|            salary|\n",
      "+-------+-----+------------------+------------------+------------------+\n",
      "|  count|    8|                 8|                 6|                 5|\n",
      "|   mean| NULL|              35.5| 4.833333333333333|           48400.0|\n",
      "| stddev| NULL|11.856282240712245|3.1885210782848317|21835.750502329887|\n",
      "|    min| Alex|              24.0|                 2|             24000|\n",
      "|    max|sunny|              50.0|                10|             80000|\n",
      "+-------+-----+------------------+------------------+------------------+\n",
      "\n"
     ]
    }
   ],
   "source": [
    "df.describe().show()"
   ]
  },
  {
   "cell_type": "markdown",
   "metadata": {},
   "source": [
    "## Drop ine with null values"
   ]
  },
  {
   "cell_type": "code",
   "execution_count": 25,
   "metadata": {},
   "outputs": [
    {
     "name": "stdout",
     "output_type": "stream",
     "text": [
      "+------+----+----------+------+\n",
      "|  name| age|experience|salary|\n",
      "+------+----+----------+------+\n",
      "| Roger|24.0|         2| 24000|\n",
      "| Marie|40.0|        10| 40000|\n",
      "|Fatima|47.0|         7| 80000|\n",
      "|  Alex|26.0|         3| 38000|\n",
      "+------+----+----------+------+\n",
      "\n"
     ]
    }
   ],
   "source": [
    "df.na.drop().show()"
   ]
  },
  {
   "cell_type": "code",
   "execution_count": 26,
   "metadata": {},
   "outputs": [
    {
     "name": "stdout",
     "output_type": "stream",
     "text": [
      "+------+----+----------+------+\n",
      "|  name| age|experience|salary|\n",
      "+------+----+----------+------+\n",
      "| Roger|24.0|         2| 24000|\n",
      "| Marie|40.0|        10| 40000|\n",
      "|Fatima|47.0|         7| 80000|\n",
      "|  Alex|26.0|         3| 38000|\n",
      "+------+----+----------+------+\n",
      "\n"
     ]
    }
   ],
   "source": [
    "df.na.drop(how=\"any\").show() # \"Any\" by default"
   ]
  },
  {
   "cell_type": "code",
   "execution_count": null,
   "metadata": {},
   "outputs": [],
   "source": []
  },
  {
   "cell_type": "code",
   "execution_count": 27,
   "metadata": {},
   "outputs": [
    {
     "name": "stdout",
     "output_type": "stream",
     "text": [
      "+--------+----+----------+------+\n",
      "|    name| age|experience|salary|\n",
      "+--------+----+----------+------+\n",
      "|   Roger|24.0|         2| 24000|\n",
      "|   Marie|40.0|        10| 40000|\n",
      "|  Fatima|47.0|         7| 80000|\n",
      "|    Alex|26.0|         3| 38000|\n",
      "|   sunny|24.0|         2|  NULL|\n",
      "|    NULL|25.0|      NULL|  NULL|\n",
      "|  Robert|50.0|      NULL|  NULL|\n",
      "|    NULL|48.0|      NULL| 60000|\n",
      "|Amandine|NULL|         5|  NULL|\n",
      "|  Armine|NULL|      NULL|  NULL|\n",
      "+--------+----+----------+------+\n",
      "\n"
     ]
    }
   ],
   "source": [
    "df.na.drop(how=\"all\").show() #Any by default"
   ]
  },
  {
   "cell_type": "code",
   "execution_count": 28,
   "metadata": {},
   "outputs": [
    {
     "name": "stdout",
     "output_type": "stream",
     "text": [
      "+--------+----+----------+------+\n",
      "|    name| age|experience|salary|\n",
      "+--------+----+----------+------+\n",
      "|   Roger|24.0|         2| 24000|\n",
      "|   Marie|40.0|        10| 40000|\n",
      "|  Fatima|47.0|         7| 80000|\n",
      "|    Alex|26.0|         3| 38000|\n",
      "|   sunny|24.0|         2|  NULL|\n",
      "|  Robert|50.0|      NULL|  NULL|\n",
      "|    NULL|48.0|      NULL| 60000|\n",
      "|Amandine|NULL|         5|  NULL|\n",
      "+--------+----+----------+------+\n",
      "\n"
     ]
    }
   ],
   "source": [
    "df.na.drop(thresh=2).show() # At least 2 NONE values"
   ]
  },
  {
   "cell_type": "markdown",
   "metadata": {},
   "source": [
    "## Subset in drop function"
   ]
  },
  {
   "cell_type": "code",
   "execution_count": 29,
   "metadata": {},
   "outputs": [
    {
     "name": "stdout",
     "output_type": "stream",
     "text": [
      "+------+----+----------+------+\n",
      "|  name| age|experience|salary|\n",
      "+------+----+----------+------+\n",
      "| Roger|24.0|         2| 24000|\n",
      "| Marie|40.0|        10| 40000|\n",
      "|Fatima|47.0|         7| 80000|\n",
      "|  Alex|26.0|         3| 38000|\n",
      "+------+----+----------+------+\n",
      "\n"
     ]
    }
   ],
   "source": [
    "df.na.drop(how=\"any\",subset = ['Experience','salary']).show() \n",
    "# Subset drop null value in na.drop on a specific column(s)"
   ]
  },
  {
   "cell_type": "markdown",
   "metadata": {},
   "source": [
    "## Selecting columns and indexing"
   ]
  },
  {
   "cell_type": "code",
   "execution_count": 30,
   "metadata": {},
   "outputs": [
    {
     "data": {
      "text/plain": [
       "['name', 'age', 'experience', 'salary']"
      ]
     },
     "execution_count": 30,
     "metadata": {},
     "output_type": "execute_result"
    }
   ],
   "source": [
    "df.columns"
   ]
  },
  {
   "cell_type": "code",
   "execution_count": 31,
   "metadata": {},
   "outputs": [
    {
     "data": {
      "text/plain": [
       "[Row(name='Roger', age=24.0, experience=2, salary=24000),\n",
       " Row(name='Marie', age=40.0, experience=10, salary=40000),\n",
       " Row(name='Fatima', age=47.0, experience=7, salary=80000),\n",
       " Row(name='Alex', age=26.0, experience=3, salary=38000)]"
      ]
     },
     "execution_count": 31,
     "metadata": {},
     "output_type": "execute_result"
    }
   ],
   "source": [
    "df.head(4)"
   ]
  },
  {
   "cell_type": "code",
   "execution_count": 32,
   "metadata": {},
   "outputs": [
    {
     "data": {
      "text/plain": [
       "pyspark.sql.dataframe.DataFrame"
      ]
     },
     "execution_count": 32,
     "metadata": {},
     "output_type": "execute_result"
    }
   ],
   "source": [
    "type(df)"
   ]
  },
  {
   "cell_type": "code",
   "execution_count": 33,
   "metadata": {},
   "outputs": [
    {
     "name": "stdout",
     "output_type": "stream",
     "text": [
      "+--------+------+\n",
      "|    name|salary|\n",
      "+--------+------+\n",
      "|   Roger| 24000|\n",
      "|   Marie| 40000|\n",
      "|  Fatima| 80000|\n",
      "|    Alex| 38000|\n",
      "|   sunny|  NULL|\n",
      "|    NULL|  NULL|\n",
      "|  Robert|  NULL|\n",
      "|    NULL| 60000|\n",
      "|Amandine|  NULL|\n",
      "|    NULL|  NULL|\n",
      "|  Armine|  NULL|\n",
      "+--------+------+\n",
      "\n"
     ]
    }
   ],
   "source": [
    "df.select(\"name\",\"salary\").show()"
   ]
  },
  {
   "cell_type": "markdown",
   "metadata": {},
   "source": [
    "## adding columns"
   ]
  },
  {
   "cell_type": "code",
   "execution_count": 34,
   "metadata": {},
   "outputs": [],
   "source": [
    "df = df.withColumn(\"month_salary\",df['salary']/12)"
   ]
  },
  {
   "cell_type": "code",
   "execution_count": 35,
   "metadata": {},
   "outputs": [
    {
     "name": "stdout",
     "output_type": "stream",
     "text": [
      "+--------+----+----------+------+------------------+\n",
      "|    name| age|experience|salary|      month_salary|\n",
      "+--------+----+----------+------+------------------+\n",
      "|   Roger|24.0|         2| 24000|            2000.0|\n",
      "|   Marie|40.0|        10| 40000|3333.3333333333335|\n",
      "|  Fatima|47.0|         7| 80000| 6666.666666666667|\n",
      "|    Alex|26.0|         3| 38000|3166.6666666666665|\n",
      "|   sunny|24.0|         2|  NULL|              NULL|\n",
      "|    NULL|25.0|      NULL|  NULL|              NULL|\n",
      "|  Robert|50.0|      NULL|  NULL|              NULL|\n",
      "|    NULL|48.0|      NULL| 60000|            5000.0|\n",
      "|Amandine|NULL|         5|  NULL|              NULL|\n",
      "|    NULL|NULL|      NULL|  NULL|              NULL|\n",
      "|  Armine|NULL|      NULL|  NULL|              NULL|\n",
      "+--------+----+----------+------+------------------+\n",
      "\n"
     ]
    }
   ],
   "source": [
    "df.show()"
   ]
  },
  {
   "cell_type": "markdown",
   "metadata": {},
   "source": [
    "## Filling the missing values"
   ]
  },
  {
   "cell_type": "code",
   "execution_count": 43,
   "metadata": {},
   "outputs": [
    {
     "name": "stdout",
     "output_type": "stream",
     "text": [
      "root\n",
      " |-- name: string (nullable = true)\n",
      " |-- age: double (nullable = true)\n",
      " |-- experience: integer (nullable = true)\n",
      " |-- salary: integer (nullable = true)\n",
      " |-- month_salary: double (nullable = true)\n",
      "\n"
     ]
    }
   ],
   "source": [
    "df.printSchema()"
   ]
  },
  {
   "cell_type": "code",
   "execution_count": 44,
   "metadata": {},
   "outputs": [
    {
     "name": "stdout",
     "output_type": "stream",
     "text": [
      "+--------+----+----------+------+------------------+\n",
      "|    name| age|experience|salary|      month_salary|\n",
      "+--------+----+----------+------+------------------+\n",
      "|   Roger|24.0|         2| 24000|            2000.0|\n",
      "|   Marie|40.0|        10| 40000|3333.3333333333335|\n",
      "|  Fatima|47.0|         7| 80000| 6666.666666666667|\n",
      "|    Alex|26.0|         3| 38000|3166.6666666666665|\n",
      "|   sunny|24.0|         2|  NULL|              NULL|\n",
      "|    NULL|25.0|        41|  NULL|              NULL|\n",
      "|  Robert|50.0|        41|  NULL|              NULL|\n",
      "|    NULL|48.0|        41| 60000|            5000.0|\n",
      "|Amandine|41.0|         5|  NULL|              NULL|\n",
      "|    NULL|41.0|        41|  NULL|              NULL|\n",
      "|  Armine|41.0|        41|  NULL|              NULL|\n",
      "+--------+----+----------+------+------------------+\n",
      "\n"
     ]
    }
   ],
   "source": [
    "df.na.fill(41,['Experience','age']).show()\n",
    "# Specifie the value to replace and then the column(s)"
   ]
  },
  {
   "cell_type": "markdown",
   "metadata": {},
   "source": [
    "# Inputer function (case sensitive !!)"
   ]
  },
  {
   "cell_type": "markdown",
   "metadata": {},
   "source": [
    "### Imputer for mean"
   ]
  },
  {
   "cell_type": "code",
   "execution_count": 70,
   "metadata": {},
   "outputs": [],
   "source": [
    "from pyspark.ml.feature import Imputer\n",
    "## Input are case sensitive !!!!\n",
    "\n",
    "imputer_mean = Imputer(\n",
    "    inputCols = ['age','experience','salary'],\n",
    "    outputCols = [\"{}_imputed\".format(c) for c in ['age','experience','salary']]\n",
    ").setStrategy(\"mean\")\n"
   ]
  },
  {
   "cell_type": "code",
   "execution_count": 72,
   "metadata": {},
   "outputs": [
    {
     "name": "stdout",
     "output_type": "stream",
     "text": [
      "+--------+----+----------+------+------------------+-----------+------------------+--------------+\n",
      "|    name| age|experience|salary|      month_salary|age_imputed|experience_imputed|salary_imputed|\n",
      "+--------+----+----------+------+------------------+-----------+------------------+--------------+\n",
      "|   Roger|24.0|         2| 24000|            2000.0|       24.0|                 2|         24000|\n",
      "|   Marie|40.0|        10| 40000|3333.3333333333335|       40.0|                10|         40000|\n",
      "|  Fatima|47.0|         7| 80000| 6666.666666666667|       47.0|                 7|         80000|\n",
      "|    Alex|26.0|         3| 38000|3166.6666666666665|       26.0|                 3|         38000|\n",
      "|   sunny|24.0|         2|  NULL|              NULL|       24.0|                 2|         48400|\n",
      "|    NULL|25.0|      NULL|  NULL|              NULL|       25.0|                 4|         48400|\n",
      "|  Robert|50.0|      NULL|  NULL|              NULL|       50.0|                 4|         48400|\n",
      "|    NULL|48.0|      NULL| 60000|            5000.0|       48.0|                 4|         60000|\n",
      "|Amandine|NULL|         5|  NULL|              NULL|       35.5|                 5|         48400|\n",
      "|    NULL|NULL|      NULL|  NULL|              NULL|       35.5|                 4|         48400|\n",
      "|  Armine|NULL|      NULL|  NULL|              NULL|       35.5|                 4|         48400|\n",
      "+--------+----+----------+------+------------------+-----------+------------------+--------------+\n",
      "\n"
     ]
    }
   ],
   "source": [
    "imputer_mean.fit(df).transform(df).show()"
   ]
  },
  {
   "cell_type": "markdown",
   "metadata": {},
   "source": [
    "### Imputer for median"
   ]
  },
  {
   "cell_type": "code",
   "execution_count": 55,
   "metadata": {},
   "outputs": [],
   "source": [
    "from pyspark.ml.feature import Imputer\n",
    "\n",
    "imputer_median = Imputer(\n",
    "    inputCols = ['age','Experience','salary'],\n",
    "    outputCols= [\"{}_median\".format(c) for c in ['age','Experience','salary']]\n",
    ").setStrategy(\"median\")"
   ]
  },
  {
   "cell_type": "code",
   "execution_count": null,
   "metadata": {},
   "outputs": [],
   "source": []
  }
 ],
 "metadata": {
  "kernelspec": {
   "display_name": "Python 3",
   "language": "python",
   "name": "python3"
  },
  "language_info": {
   "codemirror_mode": {
    "name": "ipython",
    "version": 3
   },
   "file_extension": ".py",
   "mimetype": "text/x-python",
   "name": "python",
   "nbconvert_exporter": "python",
   "pygments_lexer": "ipython3",
   "version": "3.11.9"
  }
 },
 "nbformat": 4,
 "nbformat_minor": 2
}
