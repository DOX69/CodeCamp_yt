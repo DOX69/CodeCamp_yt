{
 "cells": [
  {
   "cell_type": "markdown",
   "metadata": {},
   "source": [
    "## Pyspark groupBy and aggregate functions "
   ]
  },
  {
   "cell_type": "code",
   "execution_count": 34,
   "metadata": {},
   "outputs": [],
   "source": [
    "from pyspark.sql import SparkSession\n",
    "spark = SparkSession.builder.appName(\"Agg\").getOrCreate()"
   ]
  },
  {
   "cell_type": "code",
   "execution_count": 35,
   "metadata": {},
   "outputs": [],
   "source": [
    "df = spark.read.csv(\"employee.csv\",header=True, inferSchema=True)"
   ]
  },
  {
   "cell_type": "code",
   "execution_count": 36,
   "metadata": {},
   "outputs": [
    {
     "name": "stdout",
     "output_type": "stream",
     "text": [
      "+--------+----+----------+-------+--------------------+--------------------+\n",
      "|    name| age|experience| salary|         departments|                 job|\n",
      "+--------+----+----------+-------+--------------------+--------------------+\n",
      "|   Roger|24.0|       2.0|24000.0|                Data|       Product Owner|\n",
      "|   Marie|40.0|      10.0|40000.0|Customer relation...|             Manager|\n",
      "|  Fatima|47.0|       7.0|80000.0|               sales|         Acquisition|\n",
      "|    Alex|26.0|       3.0|38000.0|                Data|        Data analyst|\n",
      "|   sunny|24.0|       2.0|   NULL|       Communication|         Media buyer|\n",
      "|  Robert|50.0|      NULL|   NULL|Customer relation...|          Call agent|\n",
      "|Amandine|NULL|       5.0|   NULL|                NULL|                NULL|\n",
      "|  Armine|NULL|      NULL|   NULL|               Sales|             Manager|\n",
      "|    Rico|43.0|       7.0|55600.0|                NULL|   Software engineer|\n",
      "|     Zoé|20.0|       0.0|25000.0|                  HR|            Assitant|\n",
      "|   Fanny|48.0|      12.0|70100.0|                  IT|Head hardware man...|\n",
      "+--------+----+----------+-------+--------------------+--------------------+\n",
      "\n"
     ]
    }
   ],
   "source": [
    "df.show()"
   ]
  },
  {
   "cell_type": "code",
   "execution_count": 37,
   "metadata": {},
   "outputs": [
    {
     "name": "stdout",
     "output_type": "stream",
     "text": [
      "+-------+-----+------------------+-----------------+------------------+-------------+-----------------+\n",
      "|summary| name|               age|       experience|            salary|  departments|              job|\n",
      "+-------+-----+------------------+-----------------+------------------+-------------+-----------------+\n",
      "|  count|   11|                 9|                9|                 7|            9|               10|\n",
      "|   mean| NULL| 35.77777777777778|5.333333333333333| 47528.57142857143|         NULL|             NULL|\n",
      "| stddev| NULL|12.091089464744044|              4.0|21747.085190565525|         NULL|             NULL|\n",
      "|    min| Alex|              20.0|              0.0|           24000.0|Communication|      Acquisition|\n",
      "|    max|sunny|              50.0|             12.0|           80000.0|        sales|Software engineer|\n",
      "+-------+-----+------------------+-----------------+------------------+-------------+-----------------+\n",
      "\n"
     ]
    }
   ],
   "source": [
    "df.describe().show()"
   ]
  },
  {
   "cell_type": "markdown",
   "metadata": {},
   "source": [
    "## Group by operation"
   ]
  },
  {
   "cell_type": "markdown",
   "metadata": {},
   "source": [
    "### Max"
   ]
  },
  {
   "cell_type": "code",
   "execution_count": 38,
   "metadata": {},
   "outputs": [
    {
     "name": "stdout",
     "output_type": "stream",
     "text": [
      "+-----------+\n",
      "|max(salary)|\n",
      "+-----------+\n",
      "|    80000.0|\n",
      "+-----------+\n",
      "\n"
     ]
    }
   ],
   "source": [
    "df.groupBy().max(\"salary\").show()"
   ]
  },
  {
   "cell_type": "markdown",
   "metadata": {},
   "source": [
    "## Avg salary by department and job"
   ]
  },
  {
   "cell_type": "code",
   "execution_count": 39,
   "metadata": {},
   "outputs": [],
   "source": [
    "from pyspark.sql import functions as f"
   ]
  },
  {
   "cell_type": "code",
   "execution_count": 42,
   "metadata": {},
   "outputs": [
    {
     "name": "stdout",
     "output_type": "stream",
     "text": [
      "+--------------------+--------------------+-----------+\n",
      "|         Departments|                 job|avg(salary)|\n",
      "+--------------------+--------------------+-----------+\n",
      "|               sales|         Acquisition|    80000.0|\n",
      "|                  IT|Head hardware man...|    70100.0|\n",
      "|                NULL|                NULL|       NULL|\n",
      "|                Data|        Data analyst|    38000.0|\n",
      "|Customer relation...|             Manager|    40000.0|\n",
      "|                NULL|   Software engineer|    55600.0|\n",
      "|       Communication|         Media buyer|       NULL|\n",
      "|                Data|       Product Owner|    24000.0|\n",
      "|Customer relation...|          Call agent|       NULL|\n",
      "|                  HR|            Assitant|    25000.0|\n",
      "|               Sales|             Manager|       NULL|\n",
      "+--------------------+--------------------+-----------+\n",
      "\n"
     ]
    }
   ],
   "source": [
    "df.groupBy(\"Departments\",\"job\").avg('salary').show()"
   ]
  },
  {
   "cell_type": "markdown",
   "metadata": {},
   "source": [
    "## Aggregate on multiple columns with agg()"
   ]
  },
  {
   "cell_type": "code",
   "execution_count": 43,
   "metadata": {},
   "outputs": [
    {
     "name": "stdout",
     "output_type": "stream",
     "text": [
      "+--------------------+-----------+\n",
      "|                 job|sum(Salary)|\n",
      "+--------------------+-----------+\n",
      "|Head hardware man...|    70100.0|\n",
      "|                NULL|       NULL|\n",
      "|       Product Owner|    24000.0|\n",
      "|            Assitant|    25000.0|\n",
      "|          Call agent|       NULL|\n",
      "|   Software engineer|    55600.0|\n",
      "|         Acquisition|    80000.0|\n",
      "|             Manager|    40000.0|\n",
      "|         Media buyer|       NULL|\n",
      "|        Data analyst|    38000.0|\n",
      "+--------------------+-----------+\n",
      "\n"
     ]
    }
   ],
   "source": [
    "df.groupBy('job').agg({'Salary':'sum'}).show()"
   ]
  },
  {
   "cell_type": "code",
   "execution_count": 33,
   "metadata": {},
   "outputs": [
    {
     "name": "stdout",
     "output_type": "stream",
     "text": [
      "+--------------------+----------+-----------+\n",
      "|         Departments|sum_salary|mean_salary|\n",
      "+--------------------+----------+-----------+\n",
      "|                Data|   62000.0|    31000.0|\n",
      "|               Sales|      NULL|       NULL|\n",
      "|                  HR|   25000.0|    25000.0|\n",
      "|                NULL|   55600.0|    55600.0|\n",
      "|               sales|   80000.0|    80000.0|\n",
      "|Custmer relationship|   40000.0|    40000.0|\n",
      "|                  IT|   70100.0|    70100.0|\n",
      "|       Communication|      NULL|       NULL|\n",
      "+--------------------+----------+-----------+\n",
      "\n"
     ]
    }
   ],
   "source": [
    "df.groupBy('Departments')\\\n",
    ".agg(f.sum(\"salary\").alias(\"sum_salary\"),\n",
    "                              f.mean(\"salary\").alias(\"mean_salary\")\n",
    "                              )\\\n",
    ".show()"
   ]
  }
 ],
 "metadata": {
  "kernelspec": {
   "display_name": "Python 3",
   "language": "python",
   "name": "python3"
  },
  "language_info": {
   "codemirror_mode": {
    "name": "ipython",
    "version": 3
   },
   "file_extension": ".py",
   "mimetype": "text/x-python",
   "name": "python",
   "nbconvert_exporter": "python",
   "pygments_lexer": "ipython3",
   "version": "3.11.9"
  }
 },
 "nbformat": 4,
 "nbformat_minor": 2
}
