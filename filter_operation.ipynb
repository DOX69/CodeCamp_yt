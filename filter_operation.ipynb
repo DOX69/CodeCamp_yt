{
 "cells": [
  {
   "cell_type": "markdown",
   "metadata": {},
   "source": [
    "# Filter operation\n",
    "&, |, ==,\n",
    "~"
   ]
  }
 ],
 "metadata": {
  "language_info": {
   "name": "python"
  }
 },
 "nbformat": 4,
 "nbformat_minor": 2
}
