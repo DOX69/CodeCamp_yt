{
 "cells": [
  {
   "cell_type": "markdown",
   "metadata": {},
   "source": [
    "# Filter operation\n",
    "&, |, ==,\n",
    "~"
   ]
  },
  {
   "cell_type": "code",
   "execution_count": 4,
   "metadata": {},
   "outputs": [],
   "source": [
    "from pyspark.sql import SparkSession\n",
    "spark = SparkSession.builder.appName(\"Filters\").getOrCreate()"
   ]
  },
  {
   "cell_type": "code",
   "execution_count": 10,
   "metadata": {},
   "outputs": [],
   "source": [
    "df = spark.read.csv(\"base_salary.csv\",header=True, inferSchema= True)"
   ]
  },
  {
   "cell_type": "code",
   "execution_count": 11,
   "metadata": {},
   "outputs": [
    {
     "name": "stdout",
     "output_type": "stream",
     "text": [
      "+--------+----+----------+------+\n",
      "|    name| age|experience|salary|\n",
      "+--------+----+----------+------+\n",
      "|   Roger|24.0|         2| 24000|\n",
      "|   Marie|40.0|        10| 40000|\n",
      "|  Fatima|47.0|         7| 80000|\n",
      "|    Alex|26.0|         3| 38000|\n",
      "|   sunny|24.0|         2|  NULL|\n",
      "|    NULL|25.0|      NULL|  NULL|\n",
      "|  Robert|50.0|      NULL|  NULL|\n",
      "|    NULL|48.0|      NULL| 60000|\n",
      "|Amandine|NULL|         5|  NULL|\n",
      "|    NULL|NULL|      NULL|  NULL|\n",
      "|  Armine|NULL|      NULL|  NULL|\n",
      "+--------+----+----------+------+\n",
      "\n"
     ]
    }
   ],
   "source": [
    "df.show()"
   ]
  },
  {
   "cell_type": "markdown",
   "metadata": {},
   "source": [
    "## Add rows using union"
   ]
  },
  {
   "cell_type": "code",
   "execution_count": 13,
   "metadata": {},
   "outputs": [],
   "source": [
    "import random"
   ]
  },
  {
   "cell_type": "code",
   "execution_count": 16,
   "metadata": {},
   "outputs": [],
   "source": [
    "new_rows = spark.createDataFrame([\n",
    "    ('Rico',random.randint(20,50),7,55600),\n",
    "    ('Zoé',20,0,25000),\n",
    "    ('Fanny',48,12,70100),\n",
    "])"
   ]
  },
  {
   "cell_type": "code",
   "execution_count": 17,
   "metadata": {},
   "outputs": [],
   "source": [
    "df_update = df.union(new_rows)"
   ]
  },
  {
   "cell_type": "markdown",
   "metadata": {},
   "source": [
    "## Create a DataFrame with none null value in name"
   ]
  },
  {
   "cell_type": "code",
   "execution_count": 20,
   "metadata": {},
   "outputs": [],
   "source": [
    "df_none_null_name = df_update.na.drop(subset=['name'])"
   ]
  },
  {
   "cell_type": "code",
   "execution_count": 23,
   "metadata": {},
   "outputs": [
    {
     "data": {
      "text/plain": [
       "[Row(name='Roger', age=24.0, experience=2, salary=24000),\n",
       " Row(name='Marie', age=40.0, experience=10, salary=40000),\n",
       " Row(name='Fatima', age=47.0, experience=7, salary=80000),\n",
       " Row(name='Alex', age=26.0, experience=3, salary=38000),\n",
       " Row(name='sunny', age=24.0, experience=2, salary=None)]"
      ]
     },
     "execution_count": 23,
     "metadata": {},
     "output_type": "execute_result"
    }
   ],
   "source": [
    "df_none_null_name.head(5)"
   ]
  },
  {
   "cell_type": "code",
   "execution_count": null,
   "metadata": {},
   "outputs": [],
   "source": []
  }
 ],
 "metadata": {
  "kernelspec": {
   "display_name": "Python 3",
   "language": "python",
   "name": "python3"
  },
  "language_info": {
   "codemirror_mode": {
    "name": "ipython",
    "version": 3
   },
   "file_extension": ".py",
   "mimetype": "text/x-python",
   "name": "python",
   "nbconvert_exporter": "python",
   "pygments_lexer": "ipython3",
   "version": "3.11.9"
  }
 },
 "nbformat": 4,
 "nbformat_minor": 2
}
